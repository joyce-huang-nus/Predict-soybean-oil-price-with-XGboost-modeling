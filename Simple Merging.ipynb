{
 "cells": [
  {
   "cell_type": "code",
   "execution_count": 1,
   "id": "6e2b1a4d",
   "metadata": {},
   "outputs": [],
   "source": [
    "import pandas as pd\n",
    "from datetime import datetime"
   ]
  },
  {
   "cell_type": "code",
   "execution_count": 2,
   "id": "bac407f0",
   "metadata": {},
   "outputs": [],
   "source": [
    "## This function merges two dataframes based on the column specified (Column name must be the same on both dfs)\n",
    "## User can specify if it should be an inner, outer, left or right join. Default is outer join.\n",
    "\n",
    "def simple_merge(df1, df2, join_on, join='outer'):\n",
    "    if join == 'inner':\n",
    "        merged = df1.merge(df2, how='inner', on=join_on)\n",
    "    elif join == 'left':\n",
    "        merged = df1.merge(df2, how='left', on=join_on)\n",
    "    elif join == 'right':\n",
    "        merged = df1.merge(df2, how='right', on=join_on)\n",
    "    elif join == 'outer':\n",
    "        merged = df1.merge(df2, how='outer', on=join_on)\n",
    "    return merged"
   ]
  },
  {
   "cell_type": "code",
   "execution_count": 3,
   "id": "a883d204",
   "metadata": {},
   "outputs": [],
   "source": [
    "## This function standardises date columns to a specific format\n",
    "## For now, only standardise to d/m/y\n",
    "\n",
    "def std_date_format(df1, date_column, date_format='%d/%m/%Y'):\n",
    "    if date_format == '%d/%m/%Y':\n",
    "        df1[date_column] = df1[date_column].apply(lambda x: pd.to_datetime(x).strftime('%d/%m/%Y'))\n",
    "    return df1"
   ]
  },
  {
   "cell_type": "code",
   "execution_count": 4,
   "id": "e129e6ab",
   "metadata": {},
   "outputs": [],
   "source": [
    "## An Example can be found below. Feel free to change the values where necessary\n",
    "\n",
    "df1_test = pd.read_csv('final-financial.csv')\n",
    "df2_test = pd.read_excel('Soybean Oil futures price 2021.xlsx')\n",
    "\n",
    "df1_test = std_date_format(df1_test,'Date')\n",
    "df2_test = std_date_format(df2_test,'Date')\n",
    "\n",
    "df_merged = simple_merge(df1_test, df2_test, 'Date')\n",
    "df_merged.to_csv(\"output.csv\", index=False)\n",
    "\n",
    "df_merged = simple_merge(df1_test, df2_test, 'Date', 'left')\n",
    "df_merged.to_csv(\"output_left.csv\", index=False)\n",
    "\n",
    "df_merged = simple_merge(df1_test, df2_test, 'Date', 'right')\n",
    "df_merged.to_csv(\"output_right.csv\", index=False)\n",
    "\n",
    "df_merged = simple_merge(df1_test, df2_test, 'Date', 'outer')\n",
    "df_merged.to_csv(\"output_outer.csv\", index=False)"
   ]
  },
  {
   "cell_type": "code",
   "execution_count": null,
   "id": "9093297a",
   "metadata": {},
   "outputs": [],
   "source": []
  }
 ],
 "metadata": {
  "kernelspec": {
   "display_name": "Python 3 (ipykernel)",
   "language": "python",
   "name": "python3"
  },
  "language_info": {
   "codemirror_mode": {
    "name": "ipython",
    "version": 3
   },
   "file_extension": ".py",
   "mimetype": "text/x-python",
   "name": "python",
   "nbconvert_exporter": "python",
   "pygments_lexer": "ipython3",
   "version": "3.9.6"
  }
 },
 "nbformat": 4,
 "nbformat_minor": 5
}
